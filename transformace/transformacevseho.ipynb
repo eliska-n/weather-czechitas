{
 "cells": [
  {
   "cell_type": "markdown",
   "id": "3d319028-5935-4e5c-b50c-fc6584bffc84",
   "metadata": {},
   "source": [
    "# Počasí vs. realita – Transformace všeho"
   ]
  },
  {
   "cell_type": "markdown",
   "id": "e74b26e2-d844-4910-8731-e37d6c40d1e1",
   "metadata": {},
   "source": [
    "Nejdřív musím naimportovat všechny knihovny 🐼"
   ]
  },
  {
   "cell_type": "code",
   "execution_count": 1,
   "id": "b13fe83b-b67f-4c35-a310-37eedfe52a0e",
   "metadata": {},
   "outputs": [],
   "source": [
    "import pandas as pd\n",
    "import datetime\n",
    "import matplotlib.pyplot as plt\n",
    "import re"
   ]
  },
  {
   "cell_type": "markdown",
   "id": "25ac2f62-0cbc-41a4-99a4-b803a2e8d770",
   "metadata": {},
   "source": [
    "## 1. Čištění CHMI_TEPLOTA"
   ]
  },
  {
   "cell_type": "code",
   "execution_count": 2,
   "id": "262edc7b-082d-4939-b60a-6758f7c0df13",
   "metadata": {
    "tags": []
   },
   "outputs": [],
   "source": [
    "df_chmi_temp = pd.read_csv(\"in/tables/chmu_tab_teplota.csv\")"
   ]
  },
  {
   "cell_type": "markdown",
   "id": "d0b2415a-1bb7-4489-9325-a6a17e7f7665",
   "metadata": {
    "tags": []
   },
   "source": [
    "Potřebuji najít prázdná místa a nahradit je NaN. Prázdná místa ale tady nejsou normální mezery, ale pevné mezery.  \n",
    "Rada od Toma: Místo toho, abych hledala divný mezery (což by skrze unescape a normalize také šlo), tak najdu hodnoty, které mě naopak zajímají - tedy ty, které sedí do regexu\n",
    "```\n",
    "import pandas as pd\n",
    "import datetime\n",
    "import matplotlib.pyplot as plt\n",
    "import re\n",
    "import numpy as np\n",
    "​\n",
    "from html import unescape\n",
    "from unicodedata import normalize\n",
    "​\n",
    "​\n",
    "df_chmi_temp = pd.read_csv(\"chmu_tab_teplota.csv\")\n",
    "​\n",
    "# Matchne optional plus nebo minus ([\\+-]?),\n",
    "# za nim alespon 1 cislici (\\d+),\n",
    "# za ni muze byt (?:nejaka zrudnost)?\n",
    "# bud desetinna tecka nebo carka ([\\.,])\n",
    "# a alespon 1 cislice (\\d+).\n",
    "# \\+ je escapovani plusu aby znamenalo doslova znak plus, a ne kvantifikator \"alespon jednou\"\n",
    "# (nejaka zrudnost) je capturing group -- ziska mi co se uvnitr matchlo,\n",
    "# (?:nejaka zrudnost) je non-capturing group -- slouzi jen k uzavorkovani, neziska vnitrek\n",
    "# \\. je escapovani tecky aby znamenala doslova znak tecka, a ne wildcard pro cokoliv\n",
    "TEMP_REGEX = re.compile(r\"([\\+-]?\\d+(?:[\\.,]\\d+)?)\")\n",
    "​\n",
    "def chmitemptofloat(cell):\n",
    "    # unescape z HTML zapisu vyrobi unicode znak (tedy z &nbsp; vyrobi zobrazitelnou pevnou mezeru),\n",
    "    # normalize vrati kanonickou formu unicode znaku (tedy z pevne mezery klasickou mezeru)\n",
    "    # ta forma NFKC rika jak se to ma konkretne normalizovat, spis se to tyka unicode znaku\n",
    "    # ktere sestavaji z vic subznaku, tohle by nejdriv rozlozilo ten velky znak (treba\n",
    "    # C s ocaskem na C a ocasek zvlast), normalizovalo kazdy zvlast a pak zase slozilo vysledek\n",
    "    decoded = normalize(\"NFKC\", unescape(cell))\n",
    "    match = TEMP_REGEX.match(decoded)\n",
    "​\n",
    "    if match:\n",
    "        temp = float(match.group(1).replace(\",\", \".\"))\n",
    "    else:\n",
    "        temp = float(\"NaN\")\n",
    "​\n",
    "    return temp\n",
    "​\n",
    "df_chmi_temp[\"Průměrnáteplota\"] = df_chmi_temp[\"Průměrnáteplota\"].apply(chmitemptofloat)\n",
    "​\n",
    "replaced = df_chmi_temp[df_chmi_temp[\"Průměrnáteplota\"].isna()]\n",
    "print(replaced)\n",
    "```"
   ]
  },
  {
   "cell_type": "markdown",
   "id": "2a2d34f7-ed42-44c7-978b-874be31a2c6f",
   "metadata": {},
   "source": [
    "**Musím ze všech sloupců s teplotami udělat FLOAT. (oříznout °C a vyměnit , za .) Z date_stamp musím udělat datetime. Na Relativní vlhkost prdím, protože ji stejně nebudu potřebovat. Stejně jako aktuální teplota (Teplotavzduchu), teplota rosného bodu etc...**"
   ]
  },
  {
   "cell_type": "code",
   "execution_count": 3,
   "id": "7d0dfba5-78ca-4ff5-8dd6-a4258b00bf98",
   "metadata": {},
   "outputs": [],
   "source": [
    "def chmitemptofloat(cell):\n",
    "    TEMP_REGEX = re.compile(r\"([\\+-]?\\d+(?:[\\.,]\\d+)?)\")\n",
    "    match = TEMP_REGEX.match(cell)\n",
    "    if match:\n",
    "        temp = float(match.group(1).replace(\",\", \".\"))\n",
    "    else:\n",
    "        temp = float(\"NaN\")\n",
    "    return temp\n",
    "    \n",
    "df_chmi_temp[\"Prumernateplota\"] = df_chmi_temp[\"Prumernateplota\"].apply(chmitemptofloat)\n",
    "df_chmi_temp[\"Maximalniteplota\"] = df_chmi_temp[\"Maximalniteplota\"].apply(chmitemptofloat)\n",
    "df_chmi_temp[\"Minimalniteplota\"] = df_chmi_temp[\"Minimalniteplota\"].apply(chmitemptofloat)\n",
    "df_chmi_temp[\"date_stamp\"] = pd.to_datetime(df_chmi_temp[\"date_stamp\"], format = \"%d/%m/%Y %H:%M:%S\")"
   ]
  },
  {
   "cell_type": "markdown",
   "id": "11764598-ed19-42a7-b342-9908d4ec5a62",
   "metadata": {},
   "source": [
    "Chci vybrat jen ty řádky, kde date_stamp obsahuje pouze 19:00:00 nebo 20:00:00 (to se stalo, když se přetočil čas). Zbylé časy jsou záznamy, kdy jsem si to zkoušela nanečisto apod. "
   ]
  },
  {
   "cell_type": "code",
   "execution_count": 4,
   "id": "6e083668-de54-4c36-8420-2b1d081d5802",
   "metadata": {
    "tags": []
   },
   "outputs": [],
   "source": [
    "df_chmi_temp = df_chmi_temp[(df_chmi_temp[\"date_stamp\"].dt.time.astype(str) == \"19:00:00\") | (df_chmi_temp[\"date_stamp\"].dt.time.astype(str) == \"20:00:00\")]"
   ]
  },
  {
   "cell_type": "markdown",
   "id": "a616f6e4-01f0-4bfa-a5fc-9fc555df0645",
   "metadata": {},
   "source": [
    "Vezmu si jen sloupce, které mi k něčemu jsou a chytře je pojmenuji. (Tedy vyhodím ty, co jsou k ničemu a zbylé chytře pojmenuji.)"
   ]
  },
  {
   "cell_type": "code",
   "execution_count": 5,
   "id": "b7db8e18-d582-498d-84e3-f3ce132ec079",
   "metadata": {},
   "outputs": [],
   "source": [
    "df_chmi_temp = df_chmi_temp.drop(columns=['Teplotavzduchu', 'Teplotarosneho_bodu', 'Relativnivlhkost', 'Minimalniprizemni_teplota'])"
   ]
  },
  {
   "cell_type": "code",
   "execution_count": 6,
   "id": "a144744c-ab9f-4a67-8970-e0a18e8c2c80",
   "metadata": {},
   "outputs": [],
   "source": [
    "df_chmi_temp = df_chmi_temp.rename(columns={\"Stanice\": \"location\", \"Prumernateplota\": \"chmi_temp_avg\", \"Maximalniteplota\": \"chmi_temp_max\", \"Minimalniteplota\": \"chmi_temp_min\"})"
   ]
  },
  {
   "cell_type": "markdown",
   "id": "5d2a8b61-c90c-416e-b9f6-ec5f0be8b1ca",
   "metadata": {},
   "source": [
    "Ještě tam přidám sloupec, pomocí kterého budu moci joinovat tabulky - datum, pro který den je měření platné. ČHMÚ vždy uvádí průmerné hodnoty za uplynulý den (tedy od včera 6:00 UTC do dnes 6:00 UTC). Nazvu si to forecast_date i když to není forecast, ale podle toho budu na sebe matchovat jednotlivé tabulky."
   ]
  },
  {
   "cell_type": "code",
   "execution_count": 7,
   "id": "205a843d-f023-4ef3-89a9-fa220b2725e8",
   "metadata": {},
   "outputs": [],
   "source": [
    "df_chmi_temp[\"forecast_date\"] = (df_chmi_temp[\"date_stamp\"] - datetime.timedelta(days = 1)).dt.strftime('%Y-%m-%d')"
   ]
  },
  {
   "cell_type": "markdown",
   "id": "a1cd0493-771e-4684-8f2a-38cdab3badcb",
   "metadata": {},
   "source": [
    "## 2. Čištění CHMI_SRAZKY"
   ]
  },
  {
   "cell_type": "code",
   "execution_count": 8,
   "id": "34a6dfa1-661e-434b-86f0-e8a9453ba153",
   "metadata": {},
   "outputs": [],
   "source": [
    "df_chmi_rain = pd.read_csv(\"in/tables/out-tables-chmu_tab_srazky-csv.csv\")"
   ]
  },
  {
   "cell_type": "markdown",
   "id": "a68f694c-9a17-4302-8f32-f97ceb3a46fa",
   "metadata": {},
   "source": [
    "Tentokrát na to půjdu chytřeji. Beru jen to, co se mi hodí, a dám tomu chytré názvy."
   ]
  },
  {
   "cell_type": "code",
   "execution_count": 9,
   "id": "4833b8fc-250c-448f-85dd-60a5aaa74dad",
   "metadata": {},
   "outputs": [],
   "source": [
    "df_chmi_rain = df_chmi_rain.drop(columns=['Srazky_za_posledni_hodinu', 'Srazky_za_12_hodin', 'Celkova_snehova_pokryvka_cm'])"
   ]
  },
  {
   "cell_type": "code",
   "execution_count": 10,
   "id": "37b31657-2e9c-4d1c-ae92-b80cbc15fd55",
   "metadata": {},
   "outputs": [],
   "source": [
    "df_chmi_rain = df_chmi_rain.rename(columns={\"Stanice\": \"location\", \"Srazky_za_24_hodin\": \"chmi_rain\", \"Novy_snih_cm\": \"chmi_snow\"})"
   ]
  },
  {
   "cell_type": "markdown",
   "id": "61320d4b-e741-4a2a-8ff3-eb981e37a5f1",
   "metadata": {},
   "source": [
    "Udělám ze str float, vyhodím jednotky a z prázdných míst udělám NaN. Tomáš mi ten regex napsal tak hezky, že na to asi půjde použít pořád stejná funkce jako v případě teplot."
   ]
  },
  {
   "cell_type": "code",
   "execution_count": 11,
   "id": "b443d9ba-8d76-4591-85a1-61d580862006",
   "metadata": {
    "tags": []
   },
   "outputs": [],
   "source": [
    "df_chmi_rain[\"chmi_rain\"] = df_chmi_rain[\"chmi_rain\"].apply(chmitemptofloat)\n",
    "df_chmi_rain[\"chmi_snow\"] = df_chmi_rain[\"chmi_snow\"].apply(chmitemptofloat)\n",
    "df_chmi_rain[\"date_stamp\"] = pd.to_datetime(df_chmi_rain[\"date_stamp\"], format = \"%d/%m/%Y %H:%M:%S\")"
   ]
  },
  {
   "cell_type": "markdown",
   "id": "f4b8521d-b15e-437f-a57d-c99dbf8a9d66",
   "metadata": {},
   "source": [
    "Chci vybrat jen ty řádky, kde date_stamp obsahuje pouze 19:00:00 nebo 20:00:00 (to se stalo, když se přetočil čas). Zbylé časy jsou záznamy, kdy jsem si to zkoušela nanečisto apod. "
   ]
  },
  {
   "cell_type": "code",
   "execution_count": 12,
   "id": "9469bae2-ad5a-4385-8c3c-bcbed44f3871",
   "metadata": {
    "tags": []
   },
   "outputs": [],
   "source": [
    "df_chmi_rain = df_chmi_rain[(df_chmi_rain[\"date_stamp\"].dt.time.astype(str) == \"19:00:00\") | (df_chmi_rain[\"date_stamp\"].dt.time.astype(str) == \"20:00:00\")]"
   ]
  },
  {
   "cell_type": "code",
   "execution_count": 13,
   "id": "44162115-a3e5-4858-9234-1857bbc2572e",
   "metadata": {},
   "outputs": [],
   "source": [
    "df_chmi_rain[\"forecast_date\"] = (df_chmi_rain[\"date_stamp\"] - datetime.timedelta(days = 1)).dt.strftime('%Y-%m-%d')"
   ]
  },
  {
   "cell_type": "markdown",
   "id": "49f0988b-bebb-4cdf-97ee-b60be87e951d",
   "metadata": {},
   "source": [
    "Přidávám kvalitativní sloupeček, jestli pršelo nebo ne. (Což zanedbává neměřitelné srážky...uf..)"
   ]
  },
  {
   "cell_type": "code",
   "execution_count": 14,
   "id": "91854bcb-341d-437c-8ef4-e9586415ca86",
   "metadata": {},
   "outputs": [],
   "source": [
    "df_chmi_rain.loc[df_chmi_rain[\"chmi_rain\"] > 0, \"chmi_rain_bool\"] = True\n",
    "df_chmi_rain.loc[df_chmi_rain[\"chmi_rain\"] == 0, \"chmi_rain_bool\"] = False"
   ]
  },
  {
   "cell_type": "markdown",
   "id": "ad0f35df-78be-4b2c-8dd8-34563729baeb",
   "metadata": {
    "tags": []
   },
   "source": [
    "## 3. WEATHER.COM (z apify)"
   ]
  },
  {
   "cell_type": "code",
   "execution_count": 15,
   "id": "35fa076e-3271-4d8c-94b5-90af0034b131",
   "metadata": {
    "tags": []
   },
   "outputs": [],
   "source": [
    "df_weathercom = pd.read_csv(\"in/tables/weathercom_tab-csv.csv\")"
   ]
  },
  {
   "cell_type": "markdown",
   "id": "07e4c76f-6d4d-4af1-86dd-4d9969db30c7",
   "metadata": {},
   "source": [
    "Vyhazuju sloupečky, co nepotřebuju."
   ]
  },
  {
   "cell_type": "code",
   "execution_count": 16,
   "id": "6bb261cb-c8a5-443e-ad06-7dde205c48a5",
   "metadata": {},
   "outputs": [],
   "source": [
    "df_weathercom = df_weathercom.drop(columns=['city', 'country', 'humidity', 'locationId', 'state', 'windDirection', 'windSpeed', 'zipCode'])"
   ]
  },
  {
   "cell_type": "markdown",
   "id": "dbe2ba01-4c6e-49c4-b875-4c87c7979431",
   "metadata": {},
   "source": [
    "Chci vybrat jen ty řádky, kde date_stamp obsahuje pouze 19:00:00 nebo 20:00:00 (to se stalo, když se přetočil čas). Zbylé časy jsou záznamy, kdy jsem si to zkoušela nanečisto apod. "
   ]
  },
  {
   "cell_type": "code",
   "execution_count": 17,
   "id": "4ae2531c-389b-4f33-aab5-ce075ce1fac6",
   "metadata": {},
   "outputs": [],
   "source": [
    "df_weathercom[\"date_stamp\"] = pd.to_datetime(df_weathercom[\"date_stamp\"])\n",
    "df_weathercom = df_weathercom[(df_weathercom[\"date_stamp\"].dt.time.astype(str) == \"19:00:00\") | (df_weathercom[\"date_stamp\"].dt.time.astype(str) == \"20:00:00\")]"
   ]
  },
  {
   "cell_type": "markdown",
   "id": "7a430c6b-55ae-4a35-87fe-e778a9a275c1",
   "metadata": {},
   "source": [
    "Zjistila jsem, že pro to, abych poznala, na který den je předpověď mi stačí datum bez času. Čas tedy z položky time stripuji (neb jsem byla líná vvymýšlet cokoliv sofistikovanějšího) a převádím na datum. Nutno podotknout, že weathercom je ukázněné a data jsou vždy od 6:00 do 6:00, takže vše snad sedí, jak má. "
   ]
  },
  {
   "cell_type": "code",
   "execution_count": 18,
   "id": "c24b1ae6-e535-4759-979f-8b53842f4322",
   "metadata": {},
   "outputs": [],
   "source": [
    "def todt(time):\n",
    "    time = str(time)\n",
    "    time = time.rstrip(time[-12:])\n",
    "    time = pd.to_datetime(time)\n",
    "    return time\n",
    "    \n",
    "df_weathercom[\"time\"] = df_weathercom[\"time\"].apply(todt)"
   ]
  },
  {
   "cell_type": "markdown",
   "id": "982fcb80-2924-4bcf-82b9-3bb98ab4e378",
   "metadata": {},
   "source": [
    "Další úkol je udělat z 'temperature' dva sloupečky pro maximální a minimální teplotu. Dělám z nich float, aby byly dobře porovnatelné s daty z čhmú. Ale pravdou je, že weathercom dodává jen celá čísla. Asi by se na to mělo myslet v interpretaci výsledků. "
   ]
  },
  {
   "cell_type": "code",
   "execution_count": 19,
   "id": "fe9971a9-c34e-4061-9f11-5b41af3f2cb7",
   "metadata": {},
   "outputs": [],
   "source": [
    "def temptomax(temperature):\n",
    "    TEMP_REGEX2 = re.compile(r\"([\\+-]?\\d+)(?:[\\/])([\\+-]?.+)\")\n",
    "    match = TEMP_REGEX2.match(temperature)\n",
    "    if match:\n",
    "        temp = float(match.group(1))\n",
    "    else:\n",
    "        temp = float(\"NaN\")\n",
    "    return temp\n",
    "\n",
    "def temptomin(temperature):\n",
    "    TEMP_REGEX2 = re.compile(r\"([\\+-]?.+)(?:[\\/])([\\+-]?\\d+)\")\n",
    "    match = TEMP_REGEX2.match(temperature)\n",
    "    if match:\n",
    "        temp = float(match.group(2))\n",
    "    else:\n",
    "        temp = float(\"NaN\")\n",
    "    return temp\n",
    "    \n",
    "df_weathercom[\"wc_temp_max\"] = df_weathercom[\"temperature\"].apply(temptomax)\n",
    "df_weathercom[\"wc_temp_min\"] = df_weathercom[\"temperature\"].apply(temptomin)"
   ]
  },
  {
   "cell_type": "markdown",
   "id": "9c16215f-c21e-4bc7-a3eb-a4a2561c6fe5",
   "metadata": {},
   "source": [
    "Původního sloupce se už tedy můžu zbavit."
   ]
  },
  {
   "cell_type": "code",
   "execution_count": 20,
   "id": "99053af4-9502-4ae3-b3fe-2aa6f562fb93",
   "metadata": {},
   "outputs": [],
   "source": [
    "df_weathercom = df_weathercom.drop(columns=['temperature'])"
   ]
  },
  {
   "cell_type": "markdown",
   "id": "8f0a9774-2d9c-43eb-a6b1-550e49580c91",
   "metadata": {},
   "source": [
    "Zde ze sloupce 'forecast' tahám slovíčka, která by měla značit srážky a zaznamenávám, jestli hlásili déšť nebo ne. "
   ]
  },
  {
   "cell_type": "code",
   "execution_count": 21,
   "id": "df09199d-f556-45a1-a61c-98471e8f3ee1",
   "metadata": {},
   "outputs": [],
   "source": [
    "df_weathercom.loc[df_weathercom['forecast'].str.contains('Rain|Showers|Storm', regex=True), 'rain_bool'] = True\n",
    "df_weathercom.loc[df_weathercom['rain_bool'].isna(), 'rain_bool'] = False"
   ]
  },
  {
   "cell_type": "markdown",
   "id": "da88c20b-ca0f-4280-a78f-0f67f5c15e35",
   "metadata": {},
   "source": [
    "A teď chci přidat sloupec, který bude říkat, na kolik dní dopředu je ta předpověď. \n",
    "Předpověď získávám večer na další den ráno. Od zítra 6:00 UTC do pozítří 6:00 UTC je to fday 1.\n",
    "Odečítám tedy od sebe datum, na kdy je předpověď od data, kdy předpověď stahuji.  \n",
    "Jak narvat dva sloupce do jedné funkce jsem zkopčila zde: https://stackoverflow.com/questions/13331698/how-to-apply-a-function-to-two-columns-of-pandas-dataframe"
   ]
  },
  {
   "cell_type": "code",
   "execution_count": 22,
   "id": "c32594f8-5572-4aca-b7db-9ec581944bcf",
   "metadata": {},
   "outputs": [],
   "source": [
    "def forecastdays(date_stamp, time):\n",
    "    delta = datetime.datetime.date(time) - datetime.datetime.date(date_stamp)\n",
    "    return float(str(delta)[0])\n",
    "\n",
    "df_weathercom[\"wc_fday\"] = df_weathercom.apply(lambda x: forecastdays(x[\"date_stamp\"], x[\"time\"]), axis=1)"
   ]
  },
  {
   "cell_type": "markdown",
   "id": "62a8cae9-a0dc-435e-af19-ced7f6fb2343",
   "metadata": {},
   "source": [
    "Ještě ty chytrý názvy."
   ]
  },
  {
   "cell_type": "code",
   "execution_count": 23,
   "id": "dfdf4d8b-30ed-432e-a675-e1eacc99ff39",
   "metadata": {},
   "outputs": [],
   "source": [
    "df_weathercom = df_weathercom.rename(columns={\"time\": \"forecast_date\", \"location_name\": \"location\"})"
   ]
  },
  {
   "cell_type": "markdown",
   "id": "fae3511f-22cf-435f-94cc-c9449c390023",
   "metadata": {},
   "source": [
    "A zdroj..."
   ]
  },
  {
   "cell_type": "code",
   "execution_count": 24,
   "id": "33233c21-a26f-41df-b11d-5c345ca5ba07",
   "metadata": {},
   "outputs": [],
   "source": [
    "df_weathercom[\"source\"] = \"weathercom\""
   ]
  },
  {
   "cell_type": "markdown",
   "id": "4e27bcf6-579a-43c6-835c-33f0fd4e4bb7",
   "metadata": {},
   "source": [
    "Tohle je zdánlivě nesmyslný řádek, ale opravuje chybu, na kterou jsem přišla až na konci..."
   ]
  },
  {
   "cell_type": "code",
   "execution_count": 25,
   "id": "e1bb0190-1a79-45cb-a877-37c2672b2ebf",
   "metadata": {},
   "outputs": [],
   "source": [
    "df_weathercom[\"forecast_date\"] = df_weathercom[\"forecast_date\"].dt.strftime('%Y-%m-%d')"
   ]
  },
  {
   "cell_type": "markdown",
   "id": "f2105914-908e-4f5a-9e3f-0db9eb066d40",
   "metadata": {},
   "source": [
    "Ještě nechci data, kde fday je nula, to je mi k prdu"
   ]
  },
  {
   "cell_type": "code",
   "execution_count": 26,
   "id": "52c6a138-132c-4cef-8dee-8713516a3d60",
   "metadata": {},
   "outputs": [],
   "source": [
    "df_weathercom = df_weathercom[df_weathercom[\"wc_fday\"] > 0]"
   ]
  },
  {
   "cell_type": "markdown",
   "id": "7851bfa8-f6db-4891-b354-b31cb972c8dd",
   "metadata": {
    "tags": []
   },
   "source": [
    "## 4. YR.NO"
   ]
  },
  {
   "cell_type": "markdown",
   "id": "a3d312a4-087f-4937-9dfb-2ecee61853ec",
   "metadata": {},
   "source": [
    "Norové dávají data v UTC, takže to je ok. Problémek trochu je, že mám proměnlivý date_stamp kvůli změně času, takže nemůžu používat timedelta od date_stamp. Ale nějak si poradím."
   ]
  },
  {
   "cell_type": "code",
   "execution_count": 27,
   "id": "b919e892-2979-4411-b68e-f09c962a5345",
   "metadata": {
    "tags": []
   },
   "outputs": [],
   "source": [
    "df_yrno = pd.read_csv(\"in/tables/yr_tab.csv\")"
   ]
  },
  {
   "cell_type": "code",
   "execution_count": 28,
   "id": "9b4e1cc2-bc0a-4b9f-a4b0-a0d05c602bb7",
   "metadata": {},
   "outputs": [],
   "source": [
    "df_yrno = df_yrno.rename(columns={\"air_temperature_C\": \"yr_temp\", \"precipitation_amount_mm\": \"yr_rain\"})"
   ]
  },
  {
   "cell_type": "code",
   "execution_count": 29,
   "id": "075e8e13-d159-4138-b920-b94d17ed40fd",
   "metadata": {},
   "outputs": [],
   "source": [
    "df_yrno[\"date_stamp\"] = pd.to_datetime(df_yrno[\"date_stamp\"])\n",
    "df_yrno = df_yrno[(df_yrno[\"date_stamp\"].dt.time.astype(str) == \"19:00:00\") | (df_yrno[\"date_stamp\"].dt.time.astype(str) == \"20:00:00\")]"
   ]
  },
  {
   "cell_type": "markdown",
   "id": "d0238c29-5881-469f-89e2-77ec6260b581",
   "metadata": {},
   "source": [
    "Asi si nejdříve vytvořím sloupeček yr_fday - tedy na kolikátý den mám předpověď. A pak to budu prostě jenom groupovat podle toho. \n",
    "\n",
    "Zde říkám: najdi mi takové řádky, kde \"start\" je větší než zítra(+1den) 6:00, a zároveň \"end\" (konec předpovědi) je menší než pozítří (+2dny) v 6:00. \n",
    "\n",
    "Podle této formulky jsem upravila zápis tak, aby při splnění podmínky mi vznikl sloupec yr_fday a v něm 1 jako počet dní, na jak dlouho je přepdověď dopředu.   \n",
    "```df.loc[df['column name'] condition, 'new column name'] = 'value if condition is met'```"
   ]
  },
  {
   "cell_type": "code",
   "execution_count": 30,
   "id": "52356144-d177-479f-bdeb-ed60c3ee3365",
   "metadata": {},
   "outputs": [],
   "source": [
    "df_yrno.loc[(df_yrno[\"start\"] >= (pd.to_datetime(df_yrno[\"date_stamp\"].dt.date + datetime.timedelta(days=1)) + datetime.timedelta(hours=6))) & \n",
    "        (df_yrno[\"end\"] <= (pd.to_datetime(df_yrno[\"date_stamp\"].dt.date + datetime.timedelta(days=2)) + datetime.timedelta(hours=6)))\n",
    "            , [\"yr_fday\"]] = 1"
   ]
  },
  {
   "cell_type": "markdown",
   "id": "7ba37991-fe8c-4234-9fa7-1d92ca1cb736",
   "metadata": {},
   "source": [
    "Asi jsem z toho také mohla udělat funkci. Ale prdím na to, prostě to rozkopíruju pro všech deset dní. Cesta nejmenšího odporu. Trochu z toho dělám SQLko... 😂"
   ]
  },
  {
   "cell_type": "code",
   "execution_count": 31,
   "id": "2273292e-4765-4732-869c-c396a7e69233",
   "metadata": {},
   "outputs": [],
   "source": [
    "df_yrno.loc[(df_yrno[\"start\"] >= (pd.to_datetime(df_yrno[\"date_stamp\"].dt.date + datetime.timedelta(days=2)) + datetime.timedelta(hours=6))) & \n",
    "        (df_yrno[\"end\"] <= (pd.to_datetime(df_yrno[\"date_stamp\"].dt.date + datetime.timedelta(days=3)) + datetime.timedelta(hours=6)))\n",
    "            , [\"yr_fday\"]] = 2\n",
    "\n",
    "df_yrno.loc[(df_yrno[\"start\"] >= (pd.to_datetime(df_yrno[\"date_stamp\"].dt.date + datetime.timedelta(days=3)) + datetime.timedelta(hours=6))) & \n",
    "        (df_yrno[\"end\"] <= (pd.to_datetime(df_yrno[\"date_stamp\"].dt.date + datetime.timedelta(days=4)) + datetime.timedelta(hours=6)))\n",
    "            , [\"yr_fday\"]] = 3\n",
    "\n",
    "df_yrno.loc[(df_yrno[\"start\"] >= (pd.to_datetime(df_yrno[\"date_stamp\"].dt.date + datetime.timedelta(days=4)) + datetime.timedelta(hours=6))) & \n",
    "        (df_yrno[\"end\"] <= (pd.to_datetime(df_yrno[\"date_stamp\"].dt.date + datetime.timedelta(days=5)) + datetime.timedelta(hours=6)))\n",
    "            , [\"yr_fday\"]] = 4\n",
    "\n",
    "df_yrno.loc[(df_yrno[\"start\"] >= (pd.to_datetime(df_yrno[\"date_stamp\"].dt.date + datetime.timedelta(days=5)) + datetime.timedelta(hours=6))) & \n",
    "        (df_yrno[\"end\"] <= (pd.to_datetime(df_yrno[\"date_stamp\"].dt.date + datetime.timedelta(days=6)) + datetime.timedelta(hours=6)))\n",
    "            , [\"yr_fday\"]] = 5\n",
    "\n",
    "df_yrno.loc[(df_yrno[\"start\"] >= (pd.to_datetime(df_yrno[\"date_stamp\"].dt.date + datetime.timedelta(days=6)) + datetime.timedelta(hours=6))) & \n",
    "        (df_yrno[\"end\"] <= (pd.to_datetime(df_yrno[\"date_stamp\"].dt.date + datetime.timedelta(days=7)) + datetime.timedelta(hours=6)))\n",
    "            , [\"yr_fday\"]] = 6\n",
    "\n",
    "df_yrno.loc[(df_yrno[\"start\"] >= (pd.to_datetime(df_yrno[\"date_stamp\"].dt.date + datetime.timedelta(days=7)) + datetime.timedelta(hours=6))) & \n",
    "        (df_yrno[\"end\"] <= (pd.to_datetime(df_yrno[\"date_stamp\"].dt.date + datetime.timedelta(days=8)) + datetime.timedelta(hours=6)))\n",
    "            , [\"yr_fday\"]] = 7\n",
    "\n",
    "df_yrno.loc[(df_yrno[\"start\"] >= (pd.to_datetime(df_yrno[\"date_stamp\"].dt.date + datetime.timedelta(days=8)) + datetime.timedelta(hours=6))) & \n",
    "        (df_yrno[\"end\"] <= (pd.to_datetime(df_yrno[\"date_stamp\"].dt.date + datetime.timedelta(days=9)) + datetime.timedelta(hours=6)))\n",
    "            , [\"yr_fday\"]] = 8\n",
    "\n",
    "df_yrno.loc[(df_yrno[\"start\"] >= (pd.to_datetime(df_yrno[\"date_stamp\"].dt.date + datetime.timedelta(days=9)) + datetime.timedelta(hours=6))) & \n",
    "        (df_yrno[\"end\"] <= (pd.to_datetime(df_yrno[\"date_stamp\"].dt.date + datetime.timedelta(days=10)) + datetime.timedelta(hours=6)))\n",
    "            , [\"yr_fday\"]] = 9"
   ]
  },
  {
   "cell_type": "markdown",
   "id": "33044043-8008-42b0-835b-7e3291ac22f4",
   "metadata": {},
   "source": [
    "Teď to asi zgrupuju."
   ]
  },
  {
   "cell_type": "markdown",
   "id": "dae3939f-ac06-4361-a84a-c37396345941",
   "metadata": {},
   "source": [
    "viz: https://stackoverflow.com/questions/14529838/apply-multiple-functions-to-multiple-groupby-columns/53096340  \n",
    "reset_index() mi dá do každého řádku info ze sloupců, podle kterých grupuji - zplacatí mi index v řádcích"
   ]
  },
  {
   "cell_type": "code",
   "execution_count": 32,
   "id": "4cd7c67d-54af-4eba-8aa3-a538bec4a7d6",
   "metadata": {},
   "outputs": [],
   "source": [
    "df_yrno_g = df_yrno.groupby(['location', 'date_stamp', 'yr_fday', 'source']).agg({'yr_temp':['mean', 'max', 'min'], \n",
    "                         'yr_rain':'sum'}).reset_index()"
   ]
  },
  {
   "cell_type": "markdown",
   "id": "d7831153-e556-4f44-8a0b-6c95151fc3cd",
   "metadata": {},
   "source": [
    "Průšvih je, že abych s tím mohla dál pracovat, tak potřebuji zplacatit index i ve sloupcích. Tomáš mi našel super formulku:\n",
    "```\n",
    "df.columns = [' '.join(col).strip() for col in df.columns.values]\n",
    "```"
   ]
  },
  {
   "cell_type": "code",
   "execution_count": 33,
   "id": "b61b4d0f-bf4f-4871-8dfb-d15d6333a00b",
   "metadata": {},
   "outputs": [],
   "source": [
    "df_yrno_g.columns = ['_'.join(col).strip('_') for col in df_yrno_g.columns.values]"
   ]
  },
  {
   "cell_type": "markdown",
   "id": "99914308-b5c1-408c-a942-1243fa127208",
   "metadata": {},
   "source": [
    "No a abych to mohla najoinovat, tak ještě potřebuji forecast_date - tedy datum z date_stamp + yr_fday."
   ]
  },
  {
   "cell_type": "code",
   "execution_count": 34,
   "id": "1dee62c4-f31c-4134-8381-687c2841e4f3",
   "metadata": {},
   "outputs": [],
   "source": [
    "def makefdate(dstamp, fday):\n",
    "    forecast_date = datetime.datetime.date(dstamp) + datetime.timedelta(days = fday)\n",
    "    return forecast_date\n",
    "    \n",
    "df_yrno_g[\"forecast_date\"] = df_yrno_g.apply(lambda x: makefdate(x[\"date_stamp\"], x[\"yr_fday\"]), axis=1)"
   ]
  },
  {
   "cell_type": "markdown",
   "id": "9d3f2fe3-b849-4583-a7aa-40031233b6ef",
   "metadata": {},
   "source": [
    "Abych měla stejný datový typ ve všech tabulkách, potřebuji tento řádek:"
   ]
  },
  {
   "cell_type": "code",
   "execution_count": 35,
   "id": "6f588c54-10f3-49b9-b7e9-a18155b743fa",
   "metadata": {},
   "outputs": [],
   "source": [
    "df_yrno_g[\"forecast_date\"] = pd.to_datetime(df_yrno_g[\"forecast_date\"]).dt.strftime('%Y-%m-%d')"
   ]
  },
  {
   "cell_type": "markdown",
   "id": "9ae755fd-51a0-4687-9e81-20b35b359b8c",
   "metadata": {},
   "source": [
    "ještě potřebuji přidat sloupeček, který mi řekne, jestli tam jsou srážky (True/False) pouze kvalitativně. "
   ]
  },
  {
   "cell_type": "code",
   "execution_count": 36,
   "id": "a4fc9921-a8d2-483f-8f63-2b6e3017148d",
   "metadata": {},
   "outputs": [],
   "source": [
    "df_yrno_g.loc[df_yrno_g[\"yr_rain_sum\"] > 0, \"rain_bool\"] = True\n",
    "df_yrno_g.loc[df_yrno_g[\"yr_rain_sum\"] == 0, \"rain_bool\"] = False"
   ]
  },
  {
   "cell_type": "markdown",
   "id": "d31dafeb-6807-465d-8363-0a4b7c613297",
   "metadata": {},
   "source": [
    "## 5. OPENWEATHER"
   ]
  },
  {
   "cell_type": "markdown",
   "id": "f35e02ed-62e2-42fc-9bac-a7a97065026a",
   "metadata": {},
   "source": [
    "Tady je největší problém to, že předpověď je od 10 do 10, zatímco čhmú dává data od 6 do 6. A s tím nenadělám nic. 4 hodiny posun už je docela dost..."
   ]
  },
  {
   "cell_type": "code",
   "execution_count": 37,
   "id": "78f9b098-dd36-48ca-b20e-4d6ce69def4e",
   "metadata": {},
   "outputs": [],
   "source": [
    "df_ow = pd.read_csv(\"in/tables/openweather_tab.csv\")"
   ]
  },
  {
   "cell_type": "markdown",
   "id": "1310d415-661b-4f20-bda8-2df5b5455de2",
   "metadata": {},
   "source": [
    "temp_max a temp_min jsou jasný. temp_mean udělám tak, že zprůměruji temp_day, eve, morn, a night. Dávat tam max a min se mi nezdá dobré..."
   ]
  },
  {
   "cell_type": "code",
   "execution_count": 38,
   "id": "b2c4c8c4-a098-418c-a4d9-e283fd561f26",
   "metadata": {},
   "outputs": [],
   "source": [
    "df_ow[\"temp_mean\"] = df_ow[[\"temp_day\", \"temp_eve\", \"temp_morn\", \"temp_night\"]].mean(axis=1)"
   ]
  },
  {
   "cell_type": "markdown",
   "id": "bd9137c3-7fc8-4a05-9eef-6f65fac0127a",
   "metadata": {},
   "source": [
    "Teď můžu vykopnout sloupečky, který jsem použila, neb je již nebudu potřebovat."
   ]
  },
  {
   "cell_type": "code",
   "execution_count": 39,
   "id": "5f816aee-b424-4d21-b1f1-02bc1ab5a9dc",
   "metadata": {},
   "outputs": [],
   "source": [
    "df_ow = df_ow.drop(columns=[\"humidity\", \"temp_day\", \"temp_eve\", \"temp_morn\", \"temp_night\"])"
   ]
  },
  {
   "cell_type": "markdown",
   "id": "3b182d42-0c8f-499a-be9e-0eb78b334108",
   "metadata": {},
   "source": [
    "Teď chci zjistit fday a forecast_dt převést na forecast_date (pouze datum)"
   ]
  },
  {
   "cell_type": "code",
   "execution_count": 40,
   "id": "f20064b4-7279-4cb0-a1fc-2a3151741108",
   "metadata": {},
   "outputs": [],
   "source": [
    "df_ow[\"fday\"] = pd.to_numeric(((pd.to_datetime(df_ow[\"forecast_dt\"]).dt.date) - (pd.to_datetime(df_ow[\"date_stamp\"]).dt.date)).astype(\"string\").str.strip(\" days\"))"
   ]
  },
  {
   "cell_type": "code",
   "execution_count": 41,
   "id": "043c2e0c-8fef-4d5c-abf3-4092e821f994",
   "metadata": {},
   "outputs": [],
   "source": [
    "df_ow[\"forecast_dt\"] = pd.to_datetime(df_ow[\"forecast_dt\"]).dt.strftime('%Y-%m-%d')"
   ]
  },
  {
   "cell_type": "code",
   "execution_count": 42,
   "id": "374462cd-5777-43f2-9a9f-1c2b7e124e7a",
   "metadata": {},
   "outputs": [],
   "source": [
    "df_ow = df_ow.rename(columns={\"forecast_dt\": \"forecast_date\"})"
   ]
  },
  {
   "cell_type": "code",
   "execution_count": 43,
   "id": "0469a815-911a-4286-9dad-01f7d8255a5d",
   "metadata": {},
   "outputs": [],
   "source": [
    "df_ow[\"date_stamp\"] = pd.to_datetime(df_ow[\"date_stamp\"])"
   ]
  },
  {
   "cell_type": "markdown",
   "id": "89c2b340-204e-4d24-b812-f06b2a9b6346",
   "metadata": {},
   "source": [
    "Ještě nechci data, kde fday je nula, to je mi k prdu"
   ]
  },
  {
   "cell_type": "code",
   "execution_count": 44,
   "id": "56ca4fc6-3f57-45c1-92d6-5244238bd0ae",
   "metadata": {},
   "outputs": [],
   "source": [
    "df_ow = df_ow[df_ow[\"fday\"] > 0]"
   ]
  },
  {
   "cell_type": "code",
   "execution_count": 64,
   "id": "ef8d29aa-6f3f-4237-861e-e5970af70879",
   "metadata": {},
   "outputs": [],
   "source": [
    "df_ow.loc[df_ow[\"rain\"] > 0, \"rain_bool\"] = True\n",
    "df_ow.loc[df_ow[\"rain\"].isna(), \"rain_bool\"] = False"
   ]
  },
  {
   "cell_type": "code",
   "execution_count": 65,
   "id": "04744320-aa5e-4e86-ad32-27d06cf9b61d",
   "metadata": {},
   "outputs": [
    {
     "data": {
      "text/html": [
       "<div>\n",
       "<style scoped>\n",
       "    .dataframe tbody tr th:only-of-type {\n",
       "        vertical-align: middle;\n",
       "    }\n",
       "\n",
       "    .dataframe tbody tr th {\n",
       "        vertical-align: top;\n",
       "    }\n",
       "\n",
       "    .dataframe thead th {\n",
       "        text-align: right;\n",
       "    }\n",
       "</style>\n",
       "<table border=\"1\" class=\"dataframe\">\n",
       "  <thead>\n",
       "    <tr style=\"text-align: right;\">\n",
       "      <th></th>\n",
       "      <th>forecast_date</th>\n",
       "      <th>rain</th>\n",
       "      <th>snow</th>\n",
       "      <th>temp_max</th>\n",
       "      <th>temp_min</th>\n",
       "      <th>location</th>\n",
       "      <th>date_stamp</th>\n",
       "      <th>source</th>\n",
       "      <th>temp_mean</th>\n",
       "      <th>fday</th>\n",
       "      <th>rain_bool</th>\n",
       "    </tr>\n",
       "  </thead>\n",
       "  <tbody>\n",
       "    <tr>\n",
       "      <th>0</th>\n",
       "      <td>2021-11-14</td>\n",
       "      <td>7.28</td>\n",
       "      <td>NaN</td>\n",
       "      <td>6.69</td>\n",
       "      <td>4.43</td>\n",
       "      <td>Ústí nad Orlicí</td>\n",
       "      <td>2021-11-08 19:00:00</td>\n",
       "      <td>openweather</td>\n",
       "      <td>5.5725</td>\n",
       "      <td>6</td>\n",
       "      <td>True</td>\n",
       "    </tr>\n",
       "    <tr>\n",
       "      <th>3</th>\n",
       "      <td>2021-11-10</td>\n",
       "      <td>NaN</td>\n",
       "      <td>NaN</td>\n",
       "      <td>5.69</td>\n",
       "      <td>1.43</td>\n",
       "      <td>Svratouch</td>\n",
       "      <td>2021-11-08 19:00:00</td>\n",
       "      <td>openweather</td>\n",
       "      <td>2.8275</td>\n",
       "      <td>2</td>\n",
       "      <td>False</td>\n",
       "    </tr>\n",
       "    <tr>\n",
       "      <th>4</th>\n",
       "      <td>2021-11-10</td>\n",
       "      <td>NaN</td>\n",
       "      <td>NaN</td>\n",
       "      <td>7.67</td>\n",
       "      <td>0.36</td>\n",
       "      <td>Cheb</td>\n",
       "      <td>2021-11-08 19:00:00</td>\n",
       "      <td>openweather</td>\n",
       "      <td>3.1200</td>\n",
       "      <td>2</td>\n",
       "      <td>False</td>\n",
       "    </tr>\n",
       "    <tr>\n",
       "      <th>5</th>\n",
       "      <td>2021-11-15</td>\n",
       "      <td>0.33</td>\n",
       "      <td>0.14</td>\n",
       "      <td>5.02</td>\n",
       "      <td>1.01</td>\n",
       "      <td>Praha-Libuš</td>\n",
       "      <td>2021-11-08 19:00:00</td>\n",
       "      <td>openweather</td>\n",
       "      <td>2.6825</td>\n",
       "      <td>7</td>\n",
       "      <td>True</td>\n",
       "    </tr>\n",
       "    <tr>\n",
       "      <th>6</th>\n",
       "      <td>2021-11-09</td>\n",
       "      <td>NaN</td>\n",
       "      <td>NaN</td>\n",
       "      <td>6.42</td>\n",
       "      <td>1.04</td>\n",
       "      <td>Červená u Libavé</td>\n",
       "      <td>2021-11-08 19:00:00</td>\n",
       "      <td>openweather</td>\n",
       "      <td>2.6750</td>\n",
       "      <td>1</td>\n",
       "      <td>False</td>\n",
       "    </tr>\n",
       "    <tr>\n",
       "      <th>...</th>\n",
       "      <td>...</td>\n",
       "      <td>...</td>\n",
       "      <td>...</td>\n",
       "      <td>...</td>\n",
       "      <td>...</td>\n",
       "      <td>...</td>\n",
       "      <td>...</td>\n",
       "      <td>...</td>\n",
       "      <td>...</td>\n",
       "      <td>...</td>\n",
       "      <td>...</td>\n",
       "    </tr>\n",
       "    <tr>\n",
       "      <th>4475</th>\n",
       "      <td>2021-11-15</td>\n",
       "      <td>NaN</td>\n",
       "      <td>NaN</td>\n",
       "      <td>10.90</td>\n",
       "      <td>3.32</td>\n",
       "      <td>Košetice</td>\n",
       "      <td>2021-11-12 19:00:00</td>\n",
       "      <td>openweather</td>\n",
       "      <td>6.6050</td>\n",
       "      <td>3</td>\n",
       "      <td>False</td>\n",
       "    </tr>\n",
       "    <tr>\n",
       "      <th>4476</th>\n",
       "      <td>2021-11-15</td>\n",
       "      <td>NaN</td>\n",
       "      <td>NaN</td>\n",
       "      <td>9.76</td>\n",
       "      <td>3.64</td>\n",
       "      <td>Cheb</td>\n",
       "      <td>2021-11-12 19:00:00</td>\n",
       "      <td>openweather</td>\n",
       "      <td>6.0550</td>\n",
       "      <td>3</td>\n",
       "      <td>False</td>\n",
       "    </tr>\n",
       "    <tr>\n",
       "      <th>4477</th>\n",
       "      <td>2021-11-18</td>\n",
       "      <td>1.05</td>\n",
       "      <td>NaN</td>\n",
       "      <td>6.64</td>\n",
       "      <td>2.87</td>\n",
       "      <td>Přibyslav</td>\n",
       "      <td>2021-11-12 19:00:00</td>\n",
       "      <td>openweather</td>\n",
       "      <td>4.8950</td>\n",
       "      <td>6</td>\n",
       "      <td>True</td>\n",
       "    </tr>\n",
       "    <tr>\n",
       "      <th>4478</th>\n",
       "      <td>2021-11-17</td>\n",
       "      <td>NaN</td>\n",
       "      <td>NaN</td>\n",
       "      <td>6.44</td>\n",
       "      <td>1.41</td>\n",
       "      <td>Praha-Ruzyně</td>\n",
       "      <td>2021-11-12 19:00:00</td>\n",
       "      <td>openweather</td>\n",
       "      <td>4.7350</td>\n",
       "      <td>5</td>\n",
       "      <td>False</td>\n",
       "    </tr>\n",
       "    <tr>\n",
       "      <th>4479</th>\n",
       "      <td>2021-11-17</td>\n",
       "      <td>NaN</td>\n",
       "      <td>NaN</td>\n",
       "      <td>7.14</td>\n",
       "      <td>2.16</td>\n",
       "      <td>Praha-Libuš</td>\n",
       "      <td>2021-11-12 19:00:00</td>\n",
       "      <td>openweather</td>\n",
       "      <td>5.4800</td>\n",
       "      <td>5</td>\n",
       "      <td>False</td>\n",
       "    </tr>\n",
       "  </tbody>\n",
       "</table>\n",
       "<p>3920 rows × 11 columns</p>\n",
       "</div>"
      ],
      "text/plain": [
       "     forecast_date  rain  snow  temp_max  temp_min          location  \\\n",
       "0       2021-11-14  7.28   NaN      6.69      4.43   Ústí nad Orlicí   \n",
       "3       2021-11-10   NaN   NaN      5.69      1.43         Svratouch   \n",
       "4       2021-11-10   NaN   NaN      7.67      0.36              Cheb   \n",
       "5       2021-11-15  0.33  0.14      5.02      1.01       Praha-Libuš   \n",
       "6       2021-11-09   NaN   NaN      6.42      1.04  Červená u Libavé   \n",
       "...            ...   ...   ...       ...       ...               ...   \n",
       "4475    2021-11-15   NaN   NaN     10.90      3.32          Košetice   \n",
       "4476    2021-11-15   NaN   NaN      9.76      3.64              Cheb   \n",
       "4477    2021-11-18  1.05   NaN      6.64      2.87         Přibyslav   \n",
       "4478    2021-11-17   NaN   NaN      6.44      1.41      Praha-Ruzyně   \n",
       "4479    2021-11-17   NaN   NaN      7.14      2.16       Praha-Libuš   \n",
       "\n",
       "              date_stamp       source  temp_mean  fday rain_bool  \n",
       "0    2021-11-08 19:00:00  openweather     5.5725     6      True  \n",
       "3    2021-11-08 19:00:00  openweather     2.8275     2     False  \n",
       "4    2021-11-08 19:00:00  openweather     3.1200     2     False  \n",
       "5    2021-11-08 19:00:00  openweather     2.6825     7      True  \n",
       "6    2021-11-08 19:00:00  openweather     2.6750     1     False  \n",
       "...                  ...          ...        ...   ...       ...  \n",
       "4475 2021-11-12 19:00:00  openweather     6.6050     3     False  \n",
       "4476 2021-11-12 19:00:00  openweather     6.0550     3     False  \n",
       "4477 2021-11-12 19:00:00  openweather     4.8950     6      True  \n",
       "4478 2021-11-12 19:00:00  openweather     4.7350     5     False  \n",
       "4479 2021-11-12 19:00:00  openweather     5.4800     5     False  \n",
       "\n",
       "[3920 rows x 11 columns]"
      ]
     },
     "execution_count": 65,
     "metadata": {},
     "output_type": "execute_result"
    }
   ],
   "source": [
    "df_ow"
   ]
  },
  {
   "cell_type": "markdown",
   "id": "d6134b97-28c8-45a2-b27d-31b5df42eb15",
   "metadata": {},
   "source": [
    "## 6. JOINOVÁNÍ"
   ]
  },
  {
   "cell_type": "markdown",
   "id": "fa4728aa-02dd-435a-9648-127a7367fdff",
   "metadata": {},
   "source": [
    "Nejdřív dám pod sebe data z různých zdrojů a potom na ně najoinuju čhmú. Sice jsem si pojmenovávala sloupce chytře tak, aby byly názvy unikátní, ale naopak teď potřebuji, aby se korespondující sloupce napříč tabulkami jmenovaly stejně."
   ]
  },
  {
   "cell_type": "code",
   "execution_count": 46,
   "id": "8f53a728-a098-4789-80fe-a84cc6e83268",
   "metadata": {},
   "outputs": [],
   "source": [
    "df_weathercom = df_weathercom.rename(columns={\"wc_temp_max\": \"temp_max\", \"wc_temp_min\": \"temp_min\", \"wc_fday\": \"fday\"})"
   ]
  },
  {
   "cell_type": "code",
   "execution_count": 47,
   "id": "7eb62577-605b-4882-af08-206c6bd697ae",
   "metadata": {},
   "outputs": [],
   "source": [
    "df_yrno_g = df_yrno_g.rename(columns={\"yr_temp_max\": \"temp_max\", \"yr_temp_min\": \"temp_min\", \"yr_temp_mean\": \"temp_mean\", \"yr_rain_sum\": \"rain\", \"yr_fday\": \"fday\"})"
   ]
  },
  {
   "cell_type": "markdown",
   "id": "ac901a93-5213-4458-8170-c26c43357d1c",
   "metadata": {},
   "source": [
    "Teď mohu tabulky spojit pod sebe."
   ]
  },
  {
   "cell_type": "code",
   "execution_count": 48,
   "id": "52df5d4f-c096-43e3-9c21-bd6ce93b3d89",
   "metadata": {},
   "outputs": [],
   "source": [
    "df_forecasts = pd.concat([df_weathercom, df_yrno_g, df_ow])"
   ]
  },
  {
   "cell_type": "markdown",
   "id": "5fe6b039-edb1-4730-b9d7-daa6386d881a",
   "metadata": {},
   "source": [
    "Pak spojím tabulky ČHMÚ"
   ]
  },
  {
   "cell_type": "code",
   "execution_count": 49,
   "id": "211c656e-35f8-4159-8515-955145613962",
   "metadata": {},
   "outputs": [],
   "source": [
    "df_chmi = pd.merge(df_chmi_temp, df_chmi_rain, on = [\"date_stamp\", \"forecast_date\", \"location\"], how = \"left\")"
   ]
  },
  {
   "cell_type": "markdown",
   "id": "e67b1180-7851-4f91-b332-de8e223b306f",
   "metadata": {},
   "source": [
    "...a konečně najoinuji chmi na předpovědi"
   ]
  },
  {
   "cell_type": "code",
   "execution_count": 50,
   "id": "76342841-5df4-4d75-aa79-4d9d936be4fd",
   "metadata": {},
   "outputs": [],
   "source": [
    "df_joined = pd.merge(df_forecasts, df_chmi, on = [\"forecast_date\", \"location\"], how = \"left\", suffixes=('_f', '_chmi'))"
   ]
  },
  {
   "cell_type": "markdown",
   "id": "b9b658e1-96cc-42cc-af3d-3a69079a3425",
   "metadata": {},
   "source": [
    "Abych mohla namapovat stanice na mapový podklad, tak přidávám ještě lan a lon."
   ]
  },
  {
   "cell_type": "code",
   "execution_count": 51,
   "id": "9e8bb90f-f6e2-4db4-a475-213c1f9e39eb",
   "metadata": {},
   "outputs": [],
   "source": [
    "gps = {'location': ['Cheb', 'Karlovy Vary', 'Přimda', 'Kopisty', 'Tušimice', 'Plzeň-Mikulka', 'Churáňov', 'Milešovka', 'Kocelovice', 'Ústí nad Labem', 'Doksany', 'Praha-Ruzyně', 'Praha-Karlov', 'Praha-Libuš', 'Temelín', 'České Budějovice', 'Praha-Kbely', 'Liberec', 'Jičín', 'Čáslav', 'Košetice', 'Kostelní Myslová', 'Pec pod Sněžkou', 'Pardubice', 'Přibyslav', 'Polom', 'Ústí nad Orlicí', 'Svratouch', 'Náměšť nad Oslavou', 'Dukovany', 'Kuchařovice', 'Luká', 'Brno-Tuřany', 'Šerák', 'Prostějov', 'Červená u Libavé', 'Holešov', 'Ostrava-Mošnov', 'Lysá hora', 'Maruška'],\n",
    "       'latitude': ['50.0683', '50.2016', '49.6694', '50.544', '50.3765', '49.7645', '49.0683', '50.5549', '49.4672', '50.6833', '50.4587', '50.1003', '50.0691', '50.0077', '49.1975', '48.9519', '50.1232', '50.7697', '50.4393', '49.9407', '49.5735', '49.159', '50.6918', '50.0158', '49.5825', '50.3503', '49.9801', '49.735', '49.1708', '49.0954', '48.8809', '49.6522', '49.153', '50.1874', '49.4525', '49.777', '49.3205', '49.6918', '49.5459', '49.365'], \n",
    "       'longitude': ['12.3913', '12.9139', '12.6779', '13.6227', '13.3279', '13.3787', '13.615', '13.9306', '13.8385', '14.041', '14.1699', '14.2555', '14.4276', '14.4467', '14.3421', '14.4697', '14.538', '15.0238', '15.3525', '15.3863', '15.0803', '15.4391', '15.7287', '15.7402', '15.7623', '16.3221', '16.4221', '16.0342', '16.1205', '16.1344', '16.0852', '16.9533', '16.6888', '17.1082', '17.1347', '17.5418', '17.5699', '18.1126', '18.4473', '17.8284']}\n",
    "df_gps = pd.DataFrame.from_dict(gps, orient=\"columns\")\n",
    "df_gps[\"latitude\"] = pd.to_numeric(df_gps[\"latitude\"])\n",
    "df_gps[\"longitude\"] = pd.to_numeric(df_gps[\"longitude\"])"
   ]
  },
  {
   "cell_type": "code",
   "execution_count": 52,
   "id": "b131159f-8d92-4cbf-b999-9e50784baaae",
   "metadata": {},
   "outputs": [],
   "source": [
    "df_joined = pd.merge(df_joined, df_gps, on = [\"location\"], how = \"left\")"
   ]
  },
  {
   "cell_type": "code",
   "execution_count": 53,
   "id": "530480ce-d083-4abe-82b9-bed8af625aec",
   "metadata": {},
   "outputs": [],
   "source": [
    "df_joined.to_csv(\"out/tables/df_joined.csv\", index=False)"
   ]
  },
  {
   "cell_type": "markdown",
   "id": "83765c70-d7f1-42a9-a388-d3d3a8061bb8",
   "metadata": {},
   "source": [
    "## 7. STATISTIKA"
   ]
  },
  {
   "cell_type": "code",
   "execution_count": 54,
   "id": "85d431d0-daff-4ca8-8bb9-47a243c54ad9",
   "metadata": {},
   "outputs": [],
   "source": [
    "df_joined[\"temp_max_diff\"] = df_joined[\"temp_max\"] - df_joined[\"chmi_temp_max\"]\n",
    "df_joined[\"temp_min_diff\"] = (df_joined[\"temp_min\"] - df_joined[\"chmi_temp_min\"])\n",
    "df_joined[\"temp_mean_diff\"] = (df_joined[\"temp_mean\"] - df_joined[\"chmi_temp_avg\"])\n",
    "df_joined[\"rain_diff\"] = (df_joined[\"rain\"] - df_joined[\"chmi_rain\"])\n",
    "df_joined[\"temp_max_diff_abs\"] = (df_joined[\"temp_max\"] - df_joined[\"chmi_temp_max\"]).abs()\n",
    "df_joined[\"temp_min_diff_abs\"] = (df_joined[\"temp_min\"] - df_joined[\"chmi_temp_min\"]).abs()\n",
    "df_joined[\"temp_mean_diff_abs\"] = (df_joined[\"temp_mean\"] - df_joined[\"chmi_temp_avg\"]).abs()\n",
    "df_joined[\"rain_diff_abs\"] = (df_joined[\"rain\"] - df_joined[\"chmi_rain\"]).abs()"
   ]
  },
  {
   "cell_type": "markdown",
   "id": "e83c630f-88fa-4914-a4d9-fe5e4d88d7b4",
   "metadata": {},
   "source": [
    "Chci zjistit, jestli se předpověď trefí když řekne, že má (nebo nemá) pršet.  \n",
    "Když předpověď řekne, že bude pršet a skutečno pršelo, tak je to True, True a předpověď je správná. I v případě False False je předpověď správná - takové výsledky označím jako **rain_match**  \n",
    "Pak mám **false negative** - to je, když předpověď je False, ale skutečnost True.   \n",
    "A **false positive** - to je, když je předpověď True, ale skutečnost False. "
   ]
  },
  {
   "cell_type": "code",
   "execution_count": 55,
   "id": "cda4e028-38c3-4625-ace1-1d150cd5e35c",
   "metadata": {},
   "outputs": [],
   "source": [
    "df_joined.loc[((df_joined[\"rain_bool\"] == True) & (df_joined[\"chmi_rain_bool\"] == True)) | ((df_joined[\"rain_bool\"] == False) & (df_joined[\"chmi_rain_bool\"] == False)), \"rain_match\"] = 1\n",
    "df_joined.loc[(df_joined[\"rain_bool\"] == False) & (df_joined[\"chmi_rain_bool\"] == True), \"rain_falsenegative\"] = 1\n",
    "df_joined.loc[(df_joined[\"rain_bool\"] == True) & (df_joined[\"chmi_rain_bool\"] == False), \"rain_falsepositive\"] = 1"
   ]
  },
  {
   "cell_type": "code",
   "execution_count": 56,
   "id": "aea3ee7c-e9fa-4330-a735-d1781bc615b2",
   "metadata": {},
   "outputs": [],
   "source": [
    "df_grouped1 = df_joined.groupby([\"location\", \"fday\", \"source\"]).agg({'temp_max_diff':['mean', 'median', 'std', 'var', 'count'], \n",
    "                                                       'temp_min_diff':['mean', 'median', 'std', 'var', 'count'], \n",
    "                                                       'temp_mean_diff':['mean', 'median', 'std', 'var', 'count'], \n",
    "                                                       'rain_diff':['mean', 'median', 'std', 'var', 'count'], \n",
    "                                                       'temp_max_diff_abs':['mean', 'median', 'std', 'var'], \n",
    "                                                       'temp_min_diff_abs':['mean', 'median', 'std', 'var'], \n",
    "                                                       'temp_mean_diff_abs':['mean', 'median', 'std', 'var'], \n",
    "                                                       'temp_mean_diff_abs':['mean', 'median', 'std', 'var'], \n",
    "                                                       'rain_match':'sum', \n",
    "                                                       'rain_falsenegative': 'sum', \n",
    "                                                       'rain_falsepositive': 'sum',\n",
    "                                                      }).reset_index()"
   ]
  },
  {
   "cell_type": "code",
   "execution_count": 57,
   "id": "d8b3df38-2884-4346-8e43-90dcf2de31aa",
   "metadata": {},
   "outputs": [],
   "source": [
    "df_grouped1.columns = ['_'.join(col).strip('_') for col in df_grouped1.columns.values]"
   ]
  },
  {
   "cell_type": "code",
   "execution_count": 70,
   "id": "8ea69d11-eacc-4ccc-947b-e591fee55eae",
   "metadata": {},
   "outputs": [],
   "source": [
    "df_grouped1[\"rain_match_percent\"] = df_grouped1[\"rain_match_sum\"] / (df_grouped1[\"rain_match_sum\"] + df_grouped1[\"rain_falsenegative_sum\"] + df_grouped1[\"rain_falsepositive_sum\"])\n",
    "df_grouped1[\"rain_falsenegative_percent\"] = df_grouped1[\"rain_falsenegative_sum\"] / (df_grouped1[\"rain_match_sum\"] + df_grouped1[\"rain_falsenegative_sum\"] + df_grouped1[\"rain_falsepositive_sum\"])\n",
    "df_grouped1[\"rain_falsepositive_percent\"] = df_grouped1[\"rain_falsepositive_sum\"] / (df_grouped1[\"rain_match_sum\"] + df_grouped1[\"rain_falsenegative_sum\"] + df_grouped1[\"rain_falsepositive_sum\"])"
   ]
  },
  {
   "cell_type": "code",
   "execution_count": 71,
   "id": "b5047ff5-86f3-4320-a83a-6fa04b84cf87",
   "metadata": {},
   "outputs": [
    {
     "data": {
      "text/html": [
       "<div>\n",
       "<style scoped>\n",
       "    .dataframe tbody tr th:only-of-type {\n",
       "        vertical-align: middle;\n",
       "    }\n",
       "\n",
       "    .dataframe tbody tr th {\n",
       "        vertical-align: top;\n",
       "    }\n",
       "\n",
       "    .dataframe thead th {\n",
       "        text-align: right;\n",
       "    }\n",
       "</style>\n",
       "<table border=\"1\" class=\"dataframe\">\n",
       "  <thead>\n",
       "    <tr style=\"text-align: right;\">\n",
       "      <th></th>\n",
       "      <th>location</th>\n",
       "      <th>fday</th>\n",
       "      <th>source</th>\n",
       "      <th>temp_max_diff_mean</th>\n",
       "      <th>temp_max_diff_median</th>\n",
       "      <th>temp_max_diff_std</th>\n",
       "      <th>temp_max_diff_var</th>\n",
       "      <th>temp_max_diff_count</th>\n",
       "      <th>temp_min_diff_mean</th>\n",
       "      <th>temp_min_diff_median</th>\n",
       "      <th>...</th>\n",
       "      <th>temp_mean_diff_abs_mean</th>\n",
       "      <th>temp_mean_diff_abs_median</th>\n",
       "      <th>temp_mean_diff_abs_std</th>\n",
       "      <th>temp_mean_diff_abs_var</th>\n",
       "      <th>rain_match_sum</th>\n",
       "      <th>rain_falsenegative_sum</th>\n",
       "      <th>rain_falsepositive_sum</th>\n",
       "      <th>rain_match_percent</th>\n",
       "      <th>rain_falsenegative_percent</th>\n",
       "      <th>rain_falsepositive_percent</th>\n",
       "    </tr>\n",
       "  </thead>\n",
       "  <tbody>\n",
       "    <tr>\n",
       "      <th>0</th>\n",
       "      <td>Brno-Tuřany</td>\n",
       "      <td>1.0</td>\n",
       "      <td>openweather</td>\n",
       "      <td>-1.250000</td>\n",
       "      <td>-0.85</td>\n",
       "      <td>3.095583</td>\n",
       "      <td>9.582636</td>\n",
       "      <td>12</td>\n",
       "      <td>3.731667</td>\n",
       "      <td>4.195</td>\n",
       "      <td>...</td>\n",
       "      <td>0.799792</td>\n",
       "      <td>0.55125</td>\n",
       "      <td>0.959157</td>\n",
       "      <td>0.919982</td>\n",
       "      <td>0.0</td>\n",
       "      <td>0.0</td>\n",
       "      <td>0.0</td>\n",
       "      <td>NaN</td>\n",
       "      <td>NaN</td>\n",
       "      <td>NaN</td>\n",
       "    </tr>\n",
       "    <tr>\n",
       "      <th>1</th>\n",
       "      <td>Brno-Tuřany</td>\n",
       "      <td>1.0</td>\n",
       "      <td>weathercom</td>\n",
       "      <td>-0.052632</td>\n",
       "      <td>0.10</td>\n",
       "      <td>1.835262</td>\n",
       "      <td>3.368187</td>\n",
       "      <td>19</td>\n",
       "      <td>1.568421</td>\n",
       "      <td>1.200</td>\n",
       "      <td>...</td>\n",
       "      <td>NaN</td>\n",
       "      <td>NaN</td>\n",
       "      <td>NaN</td>\n",
       "      <td>NaN</td>\n",
       "      <td>17.0</td>\n",
       "      <td>0.0</td>\n",
       "      <td>1.0</td>\n",
       "      <td>0.944444</td>\n",
       "      <td>0.000000</td>\n",
       "      <td>0.055556</td>\n",
       "    </tr>\n",
       "    <tr>\n",
       "      <th>2</th>\n",
       "      <td>Brno-Tuřany</td>\n",
       "      <td>1.0</td>\n",
       "      <td>yrno</td>\n",
       "      <td>-1.450000</td>\n",
       "      <td>-1.35</td>\n",
       "      <td>1.576639</td>\n",
       "      <td>2.485789</td>\n",
       "      <td>20</td>\n",
       "      <td>0.750000</td>\n",
       "      <td>0.750</td>\n",
       "      <td>...</td>\n",
       "      <td>0.787917</td>\n",
       "      <td>0.36250</td>\n",
       "      <td>0.736087</td>\n",
       "      <td>0.541824</td>\n",
       "      <td>18.0</td>\n",
       "      <td>0.0</td>\n",
       "      <td>1.0</td>\n",
       "      <td>0.947368</td>\n",
       "      <td>0.000000</td>\n",
       "      <td>0.052632</td>\n",
       "    </tr>\n",
       "    <tr>\n",
       "      <th>3</th>\n",
       "      <td>Brno-Tuřany</td>\n",
       "      <td>2.0</td>\n",
       "      <td>openweather</td>\n",
       "      <td>-2.438182</td>\n",
       "      <td>-0.84</td>\n",
       "      <td>4.272722</td>\n",
       "      <td>18.256156</td>\n",
       "      <td>11</td>\n",
       "      <td>3.489091</td>\n",
       "      <td>4.350</td>\n",
       "      <td>...</td>\n",
       "      <td>1.137273</td>\n",
       "      <td>0.61000</td>\n",
       "      <td>1.440537</td>\n",
       "      <td>2.075147</td>\n",
       "      <td>0.0</td>\n",
       "      <td>0.0</td>\n",
       "      <td>0.0</td>\n",
       "      <td>NaN</td>\n",
       "      <td>NaN</td>\n",
       "      <td>NaN</td>\n",
       "    </tr>\n",
       "    <tr>\n",
       "      <th>4</th>\n",
       "      <td>Brno-Tuřany</td>\n",
       "      <td>2.0</td>\n",
       "      <td>weathercom</td>\n",
       "      <td>-0.222222</td>\n",
       "      <td>-0.15</td>\n",
       "      <td>2.130881</td>\n",
       "      <td>4.540654</td>\n",
       "      <td>18</td>\n",
       "      <td>1.533333</td>\n",
       "      <td>1.200</td>\n",
       "      <td>...</td>\n",
       "      <td>NaN</td>\n",
       "      <td>NaN</td>\n",
       "      <td>NaN</td>\n",
       "      <td>NaN</td>\n",
       "      <td>17.0</td>\n",
       "      <td>0.0</td>\n",
       "      <td>0.0</td>\n",
       "      <td>1.000000</td>\n",
       "      <td>0.000000</td>\n",
       "      <td>0.000000</td>\n",
       "    </tr>\n",
       "    <tr>\n",
       "      <th>...</th>\n",
       "      <td>...</td>\n",
       "      <td>...</td>\n",
       "      <td>...</td>\n",
       "      <td>...</td>\n",
       "      <td>...</td>\n",
       "      <td>...</td>\n",
       "      <td>...</td>\n",
       "      <td>...</td>\n",
       "      <td>...</td>\n",
       "      <td>...</td>\n",
       "      <td>...</td>\n",
       "      <td>...</td>\n",
       "      <td>...</td>\n",
       "      <td>...</td>\n",
       "      <td>...</td>\n",
       "      <td>...</td>\n",
       "      <td>...</td>\n",
       "      <td>...</td>\n",
       "      <td>...</td>\n",
       "      <td>...</td>\n",
       "      <td>...</td>\n",
       "    </tr>\n",
       "    <tr>\n",
       "      <th>986</th>\n",
       "      <td>Šerák</td>\n",
       "      <td>7.0</td>\n",
       "      <td>yrno</td>\n",
       "      <td>-2.300000</td>\n",
       "      <td>-1.95</td>\n",
       "      <td>5.068758</td>\n",
       "      <td>25.692308</td>\n",
       "      <td>14</td>\n",
       "      <td>-1.592857</td>\n",
       "      <td>-0.150</td>\n",
       "      <td>...</td>\n",
       "      <td>2.483929</td>\n",
       "      <td>1.22500</td>\n",
       "      <td>3.349262</td>\n",
       "      <td>11.217558</td>\n",
       "      <td>10.0</td>\n",
       "      <td>1.0</td>\n",
       "      <td>3.0</td>\n",
       "      <td>0.714286</td>\n",
       "      <td>0.071429</td>\n",
       "      <td>0.214286</td>\n",
       "    </tr>\n",
       "    <tr>\n",
       "      <th>987</th>\n",
       "      <td>Šerák</td>\n",
       "      <td>8.0</td>\n",
       "      <td>weathercom</td>\n",
       "      <td>2.950000</td>\n",
       "      <td>4.25</td>\n",
       "      <td>5.174676</td>\n",
       "      <td>26.777273</td>\n",
       "      <td>12</td>\n",
       "      <td>2.933333</td>\n",
       "      <td>4.000</td>\n",
       "      <td>...</td>\n",
       "      <td>NaN</td>\n",
       "      <td>NaN</td>\n",
       "      <td>NaN</td>\n",
       "      <td>NaN</td>\n",
       "      <td>9.0</td>\n",
       "      <td>0.0</td>\n",
       "      <td>3.0</td>\n",
       "      <td>0.750000</td>\n",
       "      <td>0.000000</td>\n",
       "      <td>0.250000</td>\n",
       "    </tr>\n",
       "    <tr>\n",
       "      <th>988</th>\n",
       "      <td>Šerák</td>\n",
       "      <td>8.0</td>\n",
       "      <td>yrno</td>\n",
       "      <td>-1.661538</td>\n",
       "      <td>0.40</td>\n",
       "      <td>4.957408</td>\n",
       "      <td>24.575897</td>\n",
       "      <td>13</td>\n",
       "      <td>-1.738462</td>\n",
       "      <td>-0.600</td>\n",
       "      <td>...</td>\n",
       "      <td>2.344231</td>\n",
       "      <td>1.07500</td>\n",
       "      <td>3.317381</td>\n",
       "      <td>11.005016</td>\n",
       "      <td>8.0</td>\n",
       "      <td>2.0</td>\n",
       "      <td>3.0</td>\n",
       "      <td>0.615385</td>\n",
       "      <td>0.153846</td>\n",
       "      <td>0.230769</td>\n",
       "    </tr>\n",
       "    <tr>\n",
       "      <th>989</th>\n",
       "      <td>Šerák</td>\n",
       "      <td>9.0</td>\n",
       "      <td>weathercom</td>\n",
       "      <td>3.054545</td>\n",
       "      <td>5.20</td>\n",
       "      <td>4.809441</td>\n",
       "      <td>23.130727</td>\n",
       "      <td>11</td>\n",
       "      <td>2.827273</td>\n",
       "      <td>3.300</td>\n",
       "      <td>...</td>\n",
       "      <td>NaN</td>\n",
       "      <td>NaN</td>\n",
       "      <td>NaN</td>\n",
       "      <td>NaN</td>\n",
       "      <td>9.0</td>\n",
       "      <td>0.0</td>\n",
       "      <td>2.0</td>\n",
       "      <td>0.818182</td>\n",
       "      <td>0.000000</td>\n",
       "      <td>0.181818</td>\n",
       "    </tr>\n",
       "    <tr>\n",
       "      <th>990</th>\n",
       "      <td>Šerák</td>\n",
       "      <td>9.0</td>\n",
       "      <td>yrno</td>\n",
       "      <td>-0.933333</td>\n",
       "      <td>1.40</td>\n",
       "      <td>5.482258</td>\n",
       "      <td>30.055152</td>\n",
       "      <td>12</td>\n",
       "      <td>0.008333</td>\n",
       "      <td>0.700</td>\n",
       "      <td>...</td>\n",
       "      <td>2.695833</td>\n",
       "      <td>1.72500</td>\n",
       "      <td>3.481017</td>\n",
       "      <td>12.117481</td>\n",
       "      <td>9.0</td>\n",
       "      <td>3.0</td>\n",
       "      <td>0.0</td>\n",
       "      <td>0.750000</td>\n",
       "      <td>0.250000</td>\n",
       "      <td>0.000000</td>\n",
       "    </tr>\n",
       "  </tbody>\n",
       "</table>\n",
       "<p>991 rows × 41 columns</p>\n",
       "</div>"
      ],
      "text/plain": [
       "        location  fday       source  temp_max_diff_mean  temp_max_diff_median  \\\n",
       "0    Brno-Tuřany   1.0  openweather           -1.250000                 -0.85   \n",
       "1    Brno-Tuřany   1.0   weathercom           -0.052632                  0.10   \n",
       "2    Brno-Tuřany   1.0         yrno           -1.450000                 -1.35   \n",
       "3    Brno-Tuřany   2.0  openweather           -2.438182                 -0.84   \n",
       "4    Brno-Tuřany   2.0   weathercom           -0.222222                 -0.15   \n",
       "..           ...   ...          ...                 ...                   ...   \n",
       "986        Šerák   7.0         yrno           -2.300000                 -1.95   \n",
       "987        Šerák   8.0   weathercom            2.950000                  4.25   \n",
       "988        Šerák   8.0         yrno           -1.661538                  0.40   \n",
       "989        Šerák   9.0   weathercom            3.054545                  5.20   \n",
       "990        Šerák   9.0         yrno           -0.933333                  1.40   \n",
       "\n",
       "     temp_max_diff_std  temp_max_diff_var  temp_max_diff_count  \\\n",
       "0             3.095583           9.582636                   12   \n",
       "1             1.835262           3.368187                   19   \n",
       "2             1.576639           2.485789                   20   \n",
       "3             4.272722          18.256156                   11   \n",
       "4             2.130881           4.540654                   18   \n",
       "..                 ...                ...                  ...   \n",
       "986           5.068758          25.692308                   14   \n",
       "987           5.174676          26.777273                   12   \n",
       "988           4.957408          24.575897                   13   \n",
       "989           4.809441          23.130727                   11   \n",
       "990           5.482258          30.055152                   12   \n",
       "\n",
       "     temp_min_diff_mean  temp_min_diff_median  ...  temp_mean_diff_abs_mean  \\\n",
       "0              3.731667                 4.195  ...                 0.799792   \n",
       "1              1.568421                 1.200  ...                      NaN   \n",
       "2              0.750000                 0.750  ...                 0.787917   \n",
       "3              3.489091                 4.350  ...                 1.137273   \n",
       "4              1.533333                 1.200  ...                      NaN   \n",
       "..                  ...                   ...  ...                      ...   \n",
       "986           -1.592857                -0.150  ...                 2.483929   \n",
       "987            2.933333                 4.000  ...                      NaN   \n",
       "988           -1.738462                -0.600  ...                 2.344231   \n",
       "989            2.827273                 3.300  ...                      NaN   \n",
       "990            0.008333                 0.700  ...                 2.695833   \n",
       "\n",
       "     temp_mean_diff_abs_median  temp_mean_diff_abs_std  \\\n",
       "0                      0.55125                0.959157   \n",
       "1                          NaN                     NaN   \n",
       "2                      0.36250                0.736087   \n",
       "3                      0.61000                1.440537   \n",
       "4                          NaN                     NaN   \n",
       "..                         ...                     ...   \n",
       "986                    1.22500                3.349262   \n",
       "987                        NaN                     NaN   \n",
       "988                    1.07500                3.317381   \n",
       "989                        NaN                     NaN   \n",
       "990                    1.72500                3.481017   \n",
       "\n",
       "     temp_mean_diff_abs_var  rain_match_sum  rain_falsenegative_sum  \\\n",
       "0                  0.919982             0.0                     0.0   \n",
       "1                       NaN            17.0                     0.0   \n",
       "2                  0.541824            18.0                     0.0   \n",
       "3                  2.075147             0.0                     0.0   \n",
       "4                       NaN            17.0                     0.0   \n",
       "..                      ...             ...                     ...   \n",
       "986               11.217558            10.0                     1.0   \n",
       "987                     NaN             9.0                     0.0   \n",
       "988               11.005016             8.0                     2.0   \n",
       "989                     NaN             9.0                     0.0   \n",
       "990               12.117481             9.0                     3.0   \n",
       "\n",
       "     rain_falsepositive_sum  rain_match_percent  rain_falsenegative_percent  \\\n",
       "0                       0.0                 NaN                         NaN   \n",
       "1                       1.0            0.944444                    0.000000   \n",
       "2                       1.0            0.947368                    0.000000   \n",
       "3                       0.0                 NaN                         NaN   \n",
       "4                       0.0            1.000000                    0.000000   \n",
       "..                      ...                 ...                         ...   \n",
       "986                     3.0            0.714286                    0.071429   \n",
       "987                     3.0            0.750000                    0.000000   \n",
       "988                     3.0            0.615385                    0.153846   \n",
       "989                     2.0            0.818182                    0.000000   \n",
       "990                     0.0            0.750000                    0.250000   \n",
       "\n",
       "     rain_falsepositive_percent  \n",
       "0                           NaN  \n",
       "1                      0.055556  \n",
       "2                      0.052632  \n",
       "3                           NaN  \n",
       "4                      0.000000  \n",
       "..                          ...  \n",
       "986                    0.214286  \n",
       "987                    0.250000  \n",
       "988                    0.230769  \n",
       "989                    0.181818  \n",
       "990                    0.000000  \n",
       "\n",
       "[991 rows x 41 columns]"
      ]
     },
     "execution_count": 71,
     "metadata": {},
     "output_type": "execute_result"
    }
   ],
   "source": [
    "df_grouped1"
   ]
  },
  {
   "cell_type": "code",
   "execution_count": 59,
   "id": "2a4b0d4e-6fcb-44c3-ba5c-56b6504d9a04",
   "metadata": {},
   "outputs": [],
   "source": [
    "df_grouped2 = df_joined.groupby([\"source\", \"fday\"]).agg({'temp_max_diff':['mean', 'median', 'std', 'var', 'count'], \n",
    "                                                       'temp_min_diff':['mean', 'median', 'std', 'var', 'count'], \n",
    "                                                       'temp_mean_diff':['mean', 'median', 'std', 'var', 'count'], \n",
    "                                                       'rain_diff':['mean', 'median', 'std', 'var', 'count'], \n",
    "                                                       'temp_max_diff_abs':['mean', 'median', 'std', 'var'], \n",
    "                                                       'temp_min_diff_abs':['mean', 'median', 'std', 'var'], \n",
    "                                                       'temp_mean_diff_abs':['mean', 'median', 'std', 'var'], \n",
    "                                                       'temp_mean_diff_abs':['mean', 'median', 'std', 'var'], \n",
    "                                                       'rain_match':'sum', \n",
    "                                                       'rain_falsenegative': 'sum', \n",
    "                                                       'rain_falsepositive': 'sum',\n",
    "                                                      }).reset_index()"
   ]
  },
  {
   "cell_type": "code",
   "execution_count": 60,
   "id": "ffcc6717-29fb-4d2e-ab67-3a4175baa6e3",
   "metadata": {},
   "outputs": [],
   "source": [
    "df_grouped2.columns = ['_'.join(col).strip('_') for col in df_grouped2.columns.values]"
   ]
  },
  {
   "cell_type": "code",
   "execution_count": 61,
   "id": "977d0840-0aee-49b8-a6b8-a72e20af1e69",
   "metadata": {},
   "outputs": [],
   "source": [
    "df_grouped1.to_csv(\"out/tables/df_grouped1.csv\", index=False)\n",
    "df_grouped2.to_csv(\"out/tables/df_grouped2.csv\", index=False)"
   ]
  },
  {
   "cell_type": "markdown",
   "id": "7cd1839c-1fef-488f-9b13-6b39cf475614",
   "metadata": {},
   "source": [
    "#### nepodstatné poznámky, kterých se nechci vzdát\n",
    "Miluju tuhle stránku: https://regex101.com/  \n",
    "Jak se dostat do sloupce s multiple indexem\n",
    "```\n",
    "df.loc[:, [(\"horni\",\"dolni\")]]\n",
    "```\n",
    "\n",
    "Jedny hranaté závorky v groupby mi vytvoří Series, dvoje závorky DataFrame, .agg() udělá taky dataframe"
   ]
  }
 ],
 "metadata": {
  "kernelspec": {
   "display_name": "Python 3 (ipykernel)",
   "language": "python",
   "name": "python3"
  },
  "language_info": {
   "codemirror_mode": {
    "name": "ipython",
    "version": 3
   },
   "file_extension": ".py",
   "mimetype": "text/x-python",
   "name": "python",
   "nbconvert_exporter": "python",
   "pygments_lexer": "ipython3",
   "version": "3.9.5"
  }
 },
 "nbformat": 4,
 "nbformat_minor": 5
}
